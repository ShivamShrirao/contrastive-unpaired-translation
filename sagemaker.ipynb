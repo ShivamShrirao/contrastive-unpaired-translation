{
 "cells": [
  {
   "cell_type": "code",
   "execution_count": 1,
   "id": "95c0a6fd",
   "metadata": {},
   "outputs": [],
   "source": [
    "import sagemaker\n",
    "import boto3\n",
    "import os\n",
    "import wandb\n",
    "from sagemaker.pytorch import PyTorch"
   ]
  },
  {
   "cell_type": "code",
   "execution_count": null,
   "id": "6d61bc4d",
   "metadata": {
    "scrolled": true
   },
   "outputs": [
    {
     "name": "stderr",
     "output_type": "stream",
     "text": [
      "Couldn't call 'get_role' to get Role ARN from role name Shivam to get Role path.\n"
     ]
    }
   ],
   "source": [
    "try:\n",
    "    sagemaker_session = sagemaker.Session()\n",
    "    role = sagemaker.get_execution_role()\n",
    "except ValueError:\n",
    "    iam = boto3.client('iam')\n",
    "    role = iam.get_role(RoleName='sagemaker_permissions')['Role']['Arn']"
   ]
  },
  {
   "cell_type": "code",
   "execution_count": null,
   "id": "dbbed229",
   "metadata": {},
   "outputs": [],
   "source": [
    "from datetime import datetime\n",
    "\n",
    "bucket = \"ai-sagemaker-weights\"\n",
    "base_job_name = \"seat-gen-unpaired\"\n",
    "checkpoint_suffix = datetime.now().strftime(\"%Y-%m-%d-%H-%M-%S\")\n",
    "checkpoint_s3_path = f\"s3://{bucket}/{base_job_name}-{checkpoint_suffix}\"\n",
    "print(checkpoint_s3_path)"
   ]
  },
  {
   "cell_type": "code",
   "execution_count": null,
   "id": "d0229bce",
   "metadata": {},
   "outputs": [],
   "source": [
    "source_dir = os.getcwd()\n",
    "wandb.sagemaker_auth(path=source_dir)\n",
    "\n",
    "estimator = PyTorch(entry_point='sage_train.sh',\n",
    "                    source_dir=source_dir,\n",
    "                    role=role,\n",
    "                    py_version='py38',\n",
    "                    framework_version='1.11.0',\n",
    "                    base_job_name=base_job_name,\n",
    "                    checkpoint_s3_uri=checkpoint_s3_path,\n",
    "#                     input_mode='FastFile',\n",
    "                    instance_count=1,\n",
    "                    instance_type='ml.g5.xlarge',\n",
    "                    use_spot_instances=True,  # Use a spot instance\n",
    "                    max_run=2*24*60*60,  # Max training time\n",
    "                    max_wait=2*24*60*60,  # Max training time + spot waiting time seconds\n",
    "                    hyperparameters={\n",
    "                        \"encoder\": \"seresnet18\",\n",
    "                        \"n_epochs\": 100,\n",
    "                        \"n_epochs_decay\": 100,\n",
    "                        \"batch_size\": 16,\n",
    "                        \"lr\": 0.0002,\n",
    "                        \"n_layers_D\": 3,\n",
    "                        \"project\": \"new_cut\",\n",
    "                        \"use_wandb\": True,\n",
    "                        \"name\": \"no_windows/\",\n",
    "                    })"
   ]
  },
  {
   "cell_type": "code",
   "execution_count": null,
   "id": "9e3bc552",
   "metadata": {
    "scrolled": false
   },
   "outputs": [],
   "source": [
    "estimator.fit({'train': 's3://ai-sagemaker-datasets/seat_gen_unpaired/'}, wait=True)"
   ]
  },
  {
   "cell_type": "code",
   "execution_count": null,
   "id": "408781b1",
   "metadata": {},
   "outputs": [],
   "source": []
  }
 ],
 "metadata": {
  "interpreter": {
   "hash": "d2152fd7f0bbc62aa1baff8c990435d1e2c7175d001561303988032604c11a48"
  },
  "kernelspec": {
   "display_name": "Python 3 (ipykernel)",
   "language": "python",
   "name": "python3"
  },
  "language_info": {
   "codemirror_mode": {
    "name": "ipython",
    "version": 3
   },
   "file_extension": ".py",
   "mimetype": "text/x-python",
   "name": "python",
   "nbconvert_exporter": "python",
   "pygments_lexer": "ipython3",
   "version": "3.10.6"
  }
 },
 "nbformat": 4,
 "nbformat_minor": 5
}
