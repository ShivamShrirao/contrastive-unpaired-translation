{
 "cells": [
  {
   "cell_type": "code",
   "execution_count": 1,
   "id": "95c0a6fd",
   "metadata": {},
   "outputs": [],
   "source": [
    "import sagemaker\n",
    "import boto3\n",
    "import os\n",
    "import wandb\n",
    "from sagemaker.pytorch import PyTorch"
   ]
  },
  {
   "cell_type": "code",
   "execution_count": 2,
   "id": "6d61bc4d",
   "metadata": {},
   "outputs": [
    {
     "name": "stderr",
     "output_type": "stream",
     "text": [
      "Couldn't call 'get_role' to get Role ARN from role name Shivam to get Role path.\n"
     ]
    }
   ],
   "source": [
    "sagemaker_session = sagemaker.Session()\n",
    "\n",
    "bucket = sagemaker_session.default_bucket()\n",
    "\n",
    "try:\n",
    "    role = sagemaker.get_execution_role()\n",
    "except ValueError:\n",
    "    iam = boto3.client('iam')\n",
    "    role = iam.get_role(RoleName='sagemaker_permissions')['Role']['Arn']"
   ]
  },
  {
   "cell_type": "code",
   "execution_count": 3,
   "id": "d0229bce",
   "metadata": {},
   "outputs": [],
   "source": [
    "source_dir = os.getcwd()\n",
    "wandb.sagemaker_auth(path=source_dir)\n",
    "\n",
    "estimator = PyTorch(entry_point='sage_train.sh',\n",
    "                    source_dir=source_dir,\n",
    "                    role=role,\n",
    "                    py_version='py38',\n",
    "                    framework_version='1.11.0',\n",
    "                    instance_count=1,\n",
    "                    instance_type='ml.g5.2xlarge',\n",
    "                    use_spot_instances=True,  # Use a spot instance\n",
    "                    max_run=3*60*60*24,  # Max training time\n",
    "                    max_wait=3*60*60*24,  # Max training time + spot waiting time seconds\n",
    "                    hyperparameters={\n",
    "                        # \"encoder\": \"seresnet18\",\n",
    "                        \"n_epochs\": 50,\n",
    "                        \"batch_size\": 2,\n",
    "                        \"project\": \"body_cut\",\n",
    "                        \"use_wandb\": True,\n",
    "                        \"name\": \"no_windows/\",\n",
    "                    })"
   ]
  },
  {
   "cell_type": "code",
   "execution_count": null,
   "id": "9e3bc552",
   "metadata": {
    "scrolled": false
   },
   "outputs": [
    {
     "name": "stdout",
     "output_type": "stream",
     "text": [
      "2022-05-28 23:18:05 Starting - Starting the training job...\n",
      "2022-05-28 23:18:07 Starting - Launching requested ML instancesProfilerReport-1653779884: InProgress\n",
      "....."
     ]
    }
   ],
   "source": [
    "estimator.fit({'train': 's3://ai-sagemaker-datasets/body_reflection_unpaired/'}, wait=True)"
   ]
  },
  {
   "cell_type": "code",
   "execution_count": null,
   "id": "408781b1",
   "metadata": {},
   "outputs": [],
   "source": []
  }
 ],
 "metadata": {
  "interpreter": {
   "hash": "d2152fd7f0bbc62aa1baff8c990435d1e2c7175d001561303988032604c11a48"
  },
  "kernelspec": {
   "display_name": "Python 3 (ipykernel)",
   "language": "python",
   "name": "python3"
  },
  "language_info": {
   "codemirror_mode": {
    "name": "ipython",
    "version": 3
   },
   "file_extension": ".py",
   "mimetype": "text/x-python",
   "name": "python",
   "nbconvert_exporter": "python",
   "pygments_lexer": "ipython3",
   "version": "3.10.4"
  }
 },
 "nbformat": 4,
 "nbformat_minor": 5
}
